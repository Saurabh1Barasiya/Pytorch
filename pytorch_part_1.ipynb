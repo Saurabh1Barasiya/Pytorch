{
  "nbformat": 4,
  "nbformat_minor": 0,
  "metadata": {
    "colab": {
      "name": "pytorch_part_1.ipynb",
      "provenance": [],
      "authorship_tag": "ABX9TyODrfbk6qWeKdP7C9abJ1dT",
      "include_colab_link": true
    },
    "kernelspec": {
      "name": "python3",
      "display_name": "Python 3"
    }
  },
  "cells": [
    {
      "cell_type": "markdown",
      "metadata": {
        "id": "view-in-github",
        "colab_type": "text"
      },
      "source": [
        "<a href=\"https://colab.research.google.com/github/Saurabh1Barasiya/Pytorch/blob/master/pytorch_part_1.ipynb\" target=\"_parent\"><img src=\"https://colab.research.google.com/assets/colab-badge.svg\" alt=\"Open In Colab\"/></a>"
      ]
    },
    {
      "cell_type": "code",
      "metadata": {
        "id": "CDTGK-XZtvZd",
        "colab_type": "code",
        "colab": {}
      },
      "source": [
        "import torch"
      ],
      "execution_count": 1,
      "outputs": []
    },
    {
      "cell_type": "code",
      "metadata": {
        "id": "VoDaMcQ9t4en",
        "colab_type": "code",
        "colab": {
          "base_uri": "https://localhost:8080/",
          "height": 34
        },
        "outputId": "c06b0b0d-6e5a-4f9e-a7f7-254baef70837"
      },
      "source": [
        "print(torch.__version__)"
      ],
      "execution_count": 3,
      "outputs": [
        {
          "output_type": "stream",
          "text": [
            "1.5.1+cu101\n"
          ],
          "name": "stdout"
        }
      ]
    },
    {
      "cell_type": "markdown",
      "metadata": {
        "id": "z2R4vkt2uK-e",
        "colab_type": "text"
      },
      "source": [
        "## Pytorch Tutorial\n",
        "## Tensors Basics\n",
        "A tensor is a generalization of vectors and matrices and is easily understood as a multidimensional array.It is a term and set of techniques known in machine learning in the training and operation of deep learning models can be described in terms of tensors. In many cases tensors are used as a replacement for NumPy to use the power of GPUs.\n",
        "\n",
        "Tensors are a type of data structure used in linear algebra, and like vectors and matrices, you can calculate arithmetic operations with tensors."
      ]
    },
    {
      "cell_type": "code",
      "metadata": {
        "id": "mwqI7Q4CuCCI",
        "colab_type": "code",
        "colab": {}
      },
      "source": [
        "import numpy as np \n",
        "a = [1,2,3,4]\n",
        "arr = np.array(a)"
      ],
      "execution_count": 8,
      "outputs": []
    },
    {
      "cell_type": "code",
      "metadata": {
        "id": "tEqJdSv_uyyB",
        "colab_type": "code",
        "colab": {
          "base_uri": "https://localhost:8080/",
          "height": 34
        },
        "outputId": "5ad95758-c388-4e70-9801-71b993351994"
      },
      "source": [
        "print(arr)"
      ],
      "execution_count": 9,
      "outputs": [
        {
          "output_type": "stream",
          "text": [
            "[1 2 3 4]\n"
          ],
          "name": "stdout"
        }
      ]
    },
    {
      "cell_type": "code",
      "metadata": {
        "id": "_CO7kWjQu6n9",
        "colab_type": "code",
        "colab": {
          "base_uri": "https://localhost:8080/",
          "height": 34
        },
        "outputId": "e57da65b-31b5-4579-ebf4-1677fc53e0cf"
      },
      "source": [
        "arr.dtype"
      ],
      "execution_count": 10,
      "outputs": [
        {
          "output_type": "execute_result",
          "data": {
            "text/plain": [
              "dtype('int64')"
            ]
          },
          "metadata": {
            "tags": []
          },
          "execution_count": 10
        }
      ]
    },
    {
      "cell_type": "markdown",
      "metadata": {
        "id": "6xYK2kt3vCS5",
        "colab_type": "text"
      },
      "source": [
        "## Convert Numpy To Pytorch Tensors"
      ]
    },
    {
      "cell_type": "code",
      "metadata": {
        "id": "NTqYZhJ2u-yl",
        "colab_type": "code",
        "colab": {
          "base_uri": "https://localhost:8080/",
          "height": 51
        },
        "outputId": "15350f89-d7c7-45ff-aeff-523fd7f1f475"
      },
      "source": [
        "tensors = torch.from_numpy(arr)\n",
        "print(tensors)\n",
        "print(type(tensors))"
      ],
      "execution_count": 13,
      "outputs": [
        {
          "output_type": "stream",
          "text": [
            "tensor([1, 2, 3, 4])\n",
            "<class 'torch.Tensor'>\n"
          ],
          "name": "stdout"
        }
      ]
    },
    {
      "cell_type": "code",
      "metadata": {
        "id": "lE407zzEvW8-",
        "colab_type": "code",
        "colab": {
          "base_uri": "https://localhost:8080/",
          "height": 34
        },
        "outputId": "edb05f0c-7ad6-4bda-fba0-05993b20ff05"
      },
      "source": [
        "### Indexing similar to numpy\n",
        "tensors[2]"
      ],
      "execution_count": 14,
      "outputs": [
        {
          "output_type": "execute_result",
          "data": {
            "text/plain": [
              "tensor(3)"
            ]
          },
          "metadata": {
            "tags": []
          },
          "execution_count": 14
        }
      ]
    },
    {
      "cell_type": "code",
      "metadata": {
        "id": "7gRWjttyvrpY",
        "colab_type": "code",
        "colab": {
          "base_uri": "https://localhost:8080/",
          "height": 34
        },
        "outputId": "983050a1-168a-4357-d1ae-05ec4b7388a0"
      },
      "source": [
        "tensors[0:]"
      ],
      "execution_count": 15,
      "outputs": [
        {
          "output_type": "execute_result",
          "data": {
            "text/plain": [
              "tensor([1, 2, 3, 4])"
            ]
          },
          "metadata": {
            "tags": []
          },
          "execution_count": 15
        }
      ]
    },
    {
      "cell_type": "code",
      "metadata": {
        "id": "vedg4fJjvwD1",
        "colab_type": "code",
        "colab": {
          "base_uri": "https://localhost:8080/",
          "height": 34
        },
        "outputId": "af515513-fb39-4705-9e06-5334256151a3"
      },
      "source": [
        "tensors[[1,2]]"
      ],
      "execution_count": 16,
      "outputs": [
        {
          "output_type": "execute_result",
          "data": {
            "text/plain": [
              "tensor([2, 3])"
            ]
          },
          "metadata": {
            "tags": []
          },
          "execution_count": 16
        }
      ]
    },
    {
      "cell_type": "code",
      "metadata": {
        "id": "IhMBdp3lv3rt",
        "colab_type": "code",
        "colab": {}
      },
      "source": [
        "#### Disadvantage of from_numpy. The array and tensor uses the same memory location\n",
        "tensors[3]=100"
      ],
      "execution_count": 17,
      "outputs": []
    },
    {
      "cell_type": "code",
      "metadata": {
        "id": "a2_e9gw4wDiv",
        "colab_type": "code",
        "colab": {
          "base_uri": "https://localhost:8080/",
          "height": 51
        },
        "outputId": "21f03626-149c-4ccd-d715-69f0124edde2"
      },
      "source": [
        "print(tensors)\n",
        "print(arr)\n",
        "# so yaha hamne changes tensors me kiya the and changes  arr me bhi ho gaye to ye problem h"
      ],
      "execution_count": 20,
      "outputs": [
        {
          "output_type": "stream",
          "text": [
            "tensor([  1,   2,   3, 100])\n",
            "[  1   2   3 100]\n"
          ],
          "name": "stdout"
        }
      ]
    },
    {
      "cell_type": "code",
      "metadata": {
        "id": "N2EpEeXcwFP9",
        "colab_type": "code",
        "colab": {
          "base_uri": "https://localhost:8080/",
          "height": 34
        },
        "outputId": "fbb89841-bbb2-40dc-e55e-8505825bc123"
      },
      "source": [
        "# to us  problem ko overkam karne ke  liye ham  torch.tensor ka use karege\n",
        "tensor_arr = torch.tensor(arr)\n",
        "tensor_arr"
      ],
      "execution_count": 23,
      "outputs": [
        {
          "output_type": "execute_result",
          "data": {
            "text/plain": [
              "tensor([  1,   2,   3, 100])"
            ]
          },
          "metadata": {
            "tags": []
          },
          "execution_count": 23
        }
      ]
    },
    {
      "cell_type": "code",
      "metadata": {
        "id": "Y3he4cNhxCY9",
        "colab_type": "code",
        "colab": {}
      },
      "source": [
        "tensor_arr[3] = 400"
      ],
      "execution_count": 24,
      "outputs": []
    },
    {
      "cell_type": "code",
      "metadata": {
        "id": "6MqqXk81xUHN",
        "colab_type": "code",
        "colab": {
          "base_uri": "https://localhost:8080/",
          "height": 51
        },
        "outputId": "58bf38a2-5079-4b8c-a271-fada39f40698"
      },
      "source": [
        "print(tensor_arr)\n",
        "print(arr)\n",
        "# so yaha changes nahi hue"
      ],
      "execution_count": 26,
      "outputs": [
        {
          "output_type": "stream",
          "text": [
            "tensor([  1,   2,   3, 400])\n",
            "[  1   2   3 100]\n"
          ],
          "name": "stdout"
        }
      ]
    },
    {
      "cell_type": "code",
      "metadata": {
        "id": "zvpGPfxaxe0x",
        "colab_type": "code",
        "colab": {
          "base_uri": "https://localhost:8080/",
          "height": 34
        },
        "outputId": "b09be82b-91c4-4449-a546-4d861c848409"
      },
      "source": [
        "print(tensor_arr.dtype)"
      ],
      "execution_count": 27,
      "outputs": [
        {
          "output_type": "stream",
          "text": [
            "torch.int64\n"
          ],
          "name": "stdout"
        }
      ]
    },
    {
      "cell_type": "code",
      "metadata": {
        "id": "i5wb-Okdx1ZJ",
        "colab_type": "code",
        "colab": {
          "base_uri": "https://localhost:8080/",
          "height": 51
        },
        "outputId": "f22cbe72-2169-496c-f0b9-2ff342dd3cec"
      },
      "source": [
        "#### zeros and ones\n",
        "torch.zeros(2,3,dtype=torch.float64)"
      ],
      "execution_count": 28,
      "outputs": [
        {
          "output_type": "execute_result",
          "data": {
            "text/plain": [
              "tensor([[0., 0., 0.],\n",
              "        [0., 0., 0.]], dtype=torch.float64)"
            ]
          },
          "metadata": {
            "tags": []
          },
          "execution_count": 28
        }
      ]
    },
    {
      "cell_type": "code",
      "metadata": {
        "id": "4lzS1P5dyVAh",
        "colab_type": "code",
        "colab": {
          "base_uri": "https://localhost:8080/",
          "height": 51
        },
        "outputId": "2f1ecfff-c0b8-4def-a50c-8387e205ba43"
      },
      "source": [
        "torch.ones(2,3,dtype=torch.int64)"
      ],
      "execution_count": 29,
      "outputs": [
        {
          "output_type": "execute_result",
          "data": {
            "text/plain": [
              "tensor([[1, 1, 1],\n",
              "        [1, 1, 1]])"
            ]
          },
          "metadata": {
            "tags": []
          },
          "execution_count": 29
        }
      ]
    },
    {
      "cell_type": "code",
      "metadata": {
        "id": "NMkbkG33yffl",
        "colab_type": "code",
        "colab": {
          "base_uri": "https://localhost:8080/",
          "height": 102
        },
        "outputId": "f7f228e4-9cad-40e7-b176-955dea4fbf27"
      },
      "source": [
        "t = torch.tensor(np.arange(0,12).reshape(3,-1))\n",
        "print(t,'\\n',type(t),'\\n',t.dtype)"
      ],
      "execution_count": 39,
      "outputs": [
        {
          "output_type": "stream",
          "text": [
            "tensor([[ 0,  1,  2,  3],\n",
            "        [ 4,  5,  6,  7],\n",
            "        [ 8,  9, 10, 11]]) \n",
            " <class 'torch.Tensor'> \n",
            " torch.int64\n"
          ],
          "name": "stdout"
        }
      ]
    },
    {
      "cell_type": "code",
      "metadata": {
        "id": "LgBwn1-Ryu5N",
        "colab_type": "code",
        "colab": {
          "base_uri": "https://localhost:8080/",
          "height": 68
        },
        "outputId": "87d19455-9674-48b5-e93b-189eee37cc93"
      },
      "source": [
        "t "
      ],
      "execution_count": 40,
      "outputs": [
        {
          "output_type": "execute_result",
          "data": {
            "text/plain": [
              "tensor([[ 0,  1,  2,  3],\n",
              "        [ 4,  5,  6,  7],\n",
              "        [ 8,  9, 10, 11]])"
            ]
          },
          "metadata": {
            "tags": []
          },
          "execution_count": 40
        }
      ]
    },
    {
      "cell_type": "code",
      "metadata": {
        "id": "W4oxkMtBzhYP",
        "colab_type": "code",
        "colab": {
          "base_uri": "https://localhost:8080/",
          "height": 561
        },
        "outputId": "413ddf4a-060c-46ed-b8e2-5d3d7a376e82"
      },
      "source": [
        "# here we extract values\n",
        "print('Here we only get zeroth row ')\n",
        "print(t[0])\n",
        "print('\\n'*2)\n",
        "\n",
        "print('Here we get all the row and all the columns')\n",
        "print(t[::])\n",
        "print('\\n'*2)\n",
        "\n",
        "print('Here we get only frist row')\n",
        "print(t[1,:])\n",
        "print('\\n'*2)\n",
        "\n",
        "print('Here we get only last column')\n",
        "print(t[:,[3]])\n",
        "print('\\n'*2)\n",
        "\n",
        "print('Here we get frist element')\n",
        "print(t[0][0])\n",
        "print('\\n'*2)\n",
        "\n",
        "print('Here we get middle values')\n",
        "print(t[0:2,1:3])"
      ],
      "execution_count": 55,
      "outputs": [
        {
          "output_type": "stream",
          "text": [
            "Here we only get zeroth row \n",
            "tensor([0, 1, 2, 3])\n",
            "\n",
            "\n",
            "\n",
            "Here we get all the row and all the columns\n",
            "tensor([[ 0,  1,  2,  3],\n",
            "        [ 4,  5,  6,  7],\n",
            "        [ 8,  9, 10, 11]])\n",
            "\n",
            "\n",
            "\n",
            "Here we get only frist row\n",
            "tensor([4, 5, 6, 7])\n",
            "\n",
            "\n",
            "\n",
            "Here we get only last column\n",
            "tensor([[ 3],\n",
            "        [ 7],\n",
            "        [11]])\n",
            "\n",
            "\n",
            "\n",
            "Here we get frist element\n",
            "tensor(0)\n",
            "\n",
            "\n",
            "\n",
            "Here we get middle values\n",
            "tensor([[1, 2],\n",
            "        [5, 6]])\n"
          ],
          "name": "stdout"
        }
      ]
    },
    {
      "cell_type": "markdown",
      "metadata": {
        "id": "zwaWngQ73M_6",
        "colab_type": "text"
      },
      "source": [
        "## Arithmetic Operation"
      ]
    },
    {
      "cell_type": "code",
      "metadata": {
        "id": "w_uIiwdFzqW_",
        "colab_type": "code",
        "colab": {
          "base_uri": "https://localhost:8080/",
          "height": 34
        },
        "outputId": "9b5db2b6-b88e-4b4a-a341-d13ce4680f74"
      },
      "source": [
        "a = torch.tensor([3,4,5], dtype=torch.float)\n",
        "b = torch.tensor([4,5,6], dtype=torch.float)\n",
        "print(a + b)"
      ],
      "execution_count": 56,
      "outputs": [
        {
          "output_type": "stream",
          "text": [
            "tensor([ 7.,  9., 11.])\n"
          ],
          "name": "stdout"
        }
      ]
    },
    {
      "cell_type": "code",
      "metadata": {
        "id": "UpQ-qqfJ3fgF",
        "colab_type": "code",
        "colab": {
          "base_uri": "https://localhost:8080/",
          "height": 34
        },
        "outputId": "61596222-d536-4f9b-877d-7f1a88c90f56"
      },
      "source": [
        "torch.add(a,b)"
      ],
      "execution_count": 58,
      "outputs": [
        {
          "output_type": "execute_result",
          "data": {
            "text/plain": [
              "tensor([ 7.,  9., 11.])"
            ]
          },
          "metadata": {
            "tags": []
          },
          "execution_count": 58
        }
      ]
    },
    {
      "cell_type": "code",
      "metadata": {
        "id": "FzXkmtwR3lCT",
        "colab_type": "code",
        "colab": {
          "base_uri": "https://localhost:8080/",
          "height": 34
        },
        "outputId": "3d2f84a3-f4dc-4fe9-f753-03ce25a4ad4e"
      },
      "source": [
        "c = torch.zeros(3)\n",
        "c"
      ],
      "execution_count": 60,
      "outputs": [
        {
          "output_type": "execute_result",
          "data": {
            "text/plain": [
              "tensor([0., 0., 0.])"
            ]
          },
          "metadata": {
            "tags": []
          },
          "execution_count": 60
        }
      ]
    },
    {
      "cell_type": "code",
      "metadata": {
        "id": "RuVhQzhA30tQ",
        "colab_type": "code",
        "colab": {}
      },
      "source": [
        "##### Some more operations\n",
        "a = torch.tensor([3,4,5], dtype=torch.float)\n",
        "b = torch.tensor([4,5,6], dtype=torch.float)"
      ],
      "execution_count": 61,
      "outputs": []
    },
    {
      "cell_type": "code",
      "metadata": {
        "id": "RLgSN4Mb3-ea",
        "colab_type": "code",
        "colab": {
          "base_uri": "https://localhost:8080/",
          "height": 34
        },
        "outputId": "8b030e04-8071-49cb-aaa9-ff93d4b7d941"
      },
      "source": [
        "### tensor[7,9,11]\n",
        "torch.add(a,b).sum()"
      ],
      "execution_count": 62,
      "outputs": [
        {
          "output_type": "execute_result",
          "data": {
            "text/plain": [
              "tensor(27.)"
            ]
          },
          "metadata": {
            "tags": []
          },
          "execution_count": 62
        }
      ]
    },
    {
      "cell_type": "markdown",
      "metadata": {
        "id": "0XOkYtz34NN1",
        "colab_type": "text"
      },
      "source": [
        "## Dot Products and Mult Operations"
      ]
    },
    {
      "cell_type": "code",
      "metadata": {
        "id": "8JGMDf_24EpP",
        "colab_type": "code",
        "colab": {}
      },
      "source": [
        "x= torch.tensor([3,4,5], dtype=torch.float)\n",
        "y = torch.tensor([4,5,6], dtype=torch.float)"
      ],
      "execution_count": 63,
      "outputs": []
    },
    {
      "cell_type": "code",
      "metadata": {
        "id": "Zm-_V_Hg4Rte",
        "colab_type": "code",
        "colab": {
          "base_uri": "https://localhost:8080/",
          "height": 51
        },
        "outputId": "d383105a-9e46-43eb-a948-4ce161000792"
      },
      "source": [
        "print(x.mul(y))\n",
        "print(\"This is index vise multiplaction\")\n",
        "### 3*4+5*4+6*5"
      ],
      "execution_count": 67,
      "outputs": [
        {
          "output_type": "stream",
          "text": [
            "tensor([12., 20., 30.])\n",
            "This is index vise multiplaction\n"
          ],
          "name": "stdout"
        }
      ]
    },
    {
      "cell_type": "code",
      "metadata": {
        "id": "4G8QLxff4W6Y",
        "colab_type": "code",
        "colab": {
          "base_uri": "https://localhost:8080/",
          "height": 51
        },
        "outputId": "266352f1-49f3-4727-aee5-f087ef20de2c"
      },
      "source": [
        "print('dot multiplaction',x.dot(y))\n",
        "print(3*4 + 5*4 + 6*5)"
      ],
      "execution_count": 70,
      "outputs": [
        {
          "output_type": "stream",
          "text": [
            "dot multiplaction tensor(62.)\n",
            "62\n"
          ],
          "name": "stdout"
        }
      ]
    },
    {
      "cell_type": "code",
      "metadata": {
        "id": "vU6MoG8k42Cl",
        "colab_type": "code",
        "colab": {}
      },
      "source": [
        "###### MAtrix Multiplication\n",
        "x = torch.tensor([[1,4,2],[1,5,5]], dtype=torch.float)\n",
        "y = torch.tensor([[5,7],[8,6],[9,11]], dtype=torch.float)"
      ],
      "execution_count": 71,
      "outputs": []
    },
    {
      "cell_type": "code",
      "metadata": {
        "id": "JTXYqnIY56E9",
        "colab_type": "code",
        "colab": {
          "base_uri": "https://localhost:8080/",
          "height": 51
        },
        "outputId": "2627e1e8-5f34-44af-99fd-72c1fa87f5c9"
      },
      "source": [
        "torch.matmul(x,y)"
      ],
      "execution_count": 72,
      "outputs": [
        {
          "output_type": "execute_result",
          "data": {
            "text/plain": [
              "tensor([[55., 53.],\n",
              "        [90., 92.]])"
            ]
          },
          "metadata": {
            "tags": []
          },
          "execution_count": 72
        }
      ]
    },
    {
      "cell_type": "code",
      "metadata": {
        "id": "FNdPcjEh6BaV",
        "colab_type": "code",
        "colab": {
          "base_uri": "https://localhost:8080/",
          "height": 51
        },
        "outputId": "93d234dc-40b6-409f-abe6-1f9e0077aaa2"
      },
      "source": [
        "torch.mm(x,y)"
      ],
      "execution_count": 73,
      "outputs": [
        {
          "output_type": "execute_result",
          "data": {
            "text/plain": [
              "tensor([[55., 53.],\n",
              "        [90., 92.]])"
            ]
          },
          "metadata": {
            "tags": []
          },
          "execution_count": 73
        }
      ]
    },
    {
      "cell_type": "code",
      "metadata": {
        "id": "Sgja3SiW6Fzo",
        "colab_type": "code",
        "colab": {
          "base_uri": "https://localhost:8080/",
          "height": 51
        },
        "outputId": "6dbc9a69-8ecb-4b56-9863-17cd272aab41"
      },
      "source": [
        "x@y"
      ],
      "execution_count": 74,
      "outputs": [
        {
          "output_type": "execute_result",
          "data": {
            "text/plain": [
              "tensor([[55., 53.],\n",
              "        [90., 92.]])"
            ]
          },
          "metadata": {
            "tags": []
          },
          "execution_count": 74
        }
      ]
    },
    {
      "cell_type": "code",
      "metadata": {
        "id": "WMCm0laO6LqO",
        "colab_type": "code",
        "colab": {}
      },
      "source": [
        ""
      ],
      "execution_count": null,
      "outputs": []
    }
  ]
}